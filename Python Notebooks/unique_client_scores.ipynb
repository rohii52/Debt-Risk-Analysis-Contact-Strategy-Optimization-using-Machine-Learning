{
 "cells": [
  {
   "cell_type": "markdown",
   "id": "1a293bab",
   "metadata": {},
   "source": [
    "# Unique Segment Risk Score & Action Tiers for each individual client."
   ]
  },
  {
   "cell_type": "markdown",
   "id": "d05b22e2",
   "metadata": {},
   "source": [
    "## Mechanics\n",
    "\n",
    "Instead of using group averages like now (Avg dp1, Avg dp3, Avg Arrears), we directly use each client's own values from their profile:\n",
    "\n",
    "\n",
    "Field\tValue Used\n",
    "- Client's own Arrears Balance\tHow much money they owe\n",
    "- Client's own dp1 Score\tTheir personal credit score\n",
    "- Client's own dp3 Score\tTheir personal alternate credit score\n",
    "- Client's own Mobile Availability\tY/N\n",
    "- Client's own Email Availability\tY/N"
   ]
  },
  {
   "cell_type": "markdown",
   "id": "bb8988cd",
   "metadata": {},
   "source": [
    "## FORMULA \n",
    "\n",
    "Segment Risk Score = \n",
    "  (Individual Arrears / 100)\n",
    "+ +(100 - Individual dp1 Score)\n",
    "+ +(100 - (Individual dp3 Score) / 10)\n",
    "+ +(100 - Mobile Flag (1 or 0) * 100)/2\n",
    "+ +(100 - Email Flag (1 or 0) * 100)/3\n",
    "\n",
    "- \n",
    "\n",
    "- \n",
    "\n",
    "\n",
    "Segment_Risk_Score = \n",
    "    (Arrears Balance / 100) \n",
    "+    + (100 - dp1 Score) \n",
    "+    + (100 - (dp3 Score) / 10) \n",
    "+    + ((1 - Mobile Availability) * 100 / 2)\n",
    "+    + ((1 - Email Availability) * 100 / 3)\n",
    "\n",
    "If Mobile is 1 (available), then (1-1)=0  - > no penalty.\n",
    "If Mobile is 0 (not available), then (1-0)=1 - > penalty added."
   ]
  },
  {
   "cell_type": "markdown",
   "id": "de49112d",
   "metadata": {},
   "source": [
    "## Good Things\n",
    "\n",
    "\n",
    "- More precise\tEvery client gets risk score based on their actual behavior\n",
    "- Better targeting\tNo \"group dilution\" — high-risk people won't get hidden in good groups\n",
    "- For machine learning - in\tFuture if we build ML models we can learn better from individual signals\n",
    "\n",
    "## Challenges \n",
    "\n",
    "- Missing values\t- Some clients might have missing dp1, dp3, arrears, or mobile/email info. Need to handle it carefully.\n",
    "- Noise\t- Very low data on some fields can create weird scores (outliers).\n",
    "- Complexity\t- Harder to explain to non-technical business people (\"Why is this client 135.2 risk and this one 118.4 risk?\")"
   ]
  },
  {
   "cell_type": "code",
   "execution_count": 3,
   "id": "6a3a3e26",
   "metadata": {},
   "outputs": [
    {
     "name": "stdout",
     "output_type": "stream",
     "text": [
      "\n",
      " Successfully saved file with individual client risk scores\n"
     ]
    },
    {
     "name": "stderr",
     "output_type": "stream",
     "text": [
      "/var/folders/2v/054zj6gs6m521sf_2_t9pdjw0000gn/T/ipykernel_4413/733136657.py:19: SettingWithCopyWarning: \n",
      "A value is trying to be set on a copy of a slice from a DataFrame.\n",
      "Try using .loc[row_indexer,col_indexer] = value instead\n",
      "\n",
      "See the caveats in the documentation: https://pandas.pydata.org/pandas-docs/stable/user_guide/indexing.html#returning-a-view-versus-a-copy\n",
      "  df_clean['Segment_Risk_Score'] = (\n"
     ]
    }
   ],
   "source": [
    "import pandas as pd\n",
    "\n",
    "\n",
    "df = pd.read_csv(\"/Users/rg/ACADEMICS/Interview/Connected Data Comapany/MAY/Dataset/Modified/cleaned_connected_data_with_zones.csv\")\n",
    "\n",
    "# 1. Clean mobile and email flags\n",
    "df['Mobile Flag'] = df['Mobile Flag'].str.strip().str.upper()\n",
    "df['Email Flag'] = df['Email Flag'].str.strip().str.upper()\n",
    "\n",
    "# 2. Create binary flags\n",
    "df['Mobile_Available'] = df['Mobile Flag'].apply(lambda x: 1 if x == 'Y' else 0)\n",
    "df['Email_Available'] = df['Email Flag'].apply(lambda x: 1 if x == 'Y' else 0)\n",
    "\n",
    "# 3. Drop rows with missing important fields\n",
    "important_fields = ['Arrears Balance', 'dp1 Score', 'dp3 Score']\n",
    "df_clean = df.dropna(subset=important_fields)\n",
    "\n",
    "# 4. Calculate Individual Segment Risk Score\n",
    "df_clean['Segment_Risk_Score'] = (\n",
    "    (df_clean['Arrears Balance'] / 100)\n",
    "    + (100 - df_clean['dp1 Score'])\n",
    "    + (100 - (df_clean['dp3 Score'] / 10))\n",
    "    + ((1 - df_clean['Mobile_Available']) * 100 / 2)\n",
    "    + ((1 - df_clean['Email_Available']) * 100 / 3)\n",
    ").round(2)\n",
    "\n",
    "# 5. Save \n",
    "df_clean.to_csv(\"/Users/rg/ACADEMICS/Interview/Connected Data Comapany/MAY/Dataset/Unique_Scores_for_Client/clients_with_individual_segment_score.csv\", index=False)\n",
    "\n",
    "print(\"\\n Successfully saved file with individual client risk scores\")\n"
   ]
  },
  {
   "cell_type": "markdown",
   "id": "76ecc4de",
   "metadata": {},
   "source": [
    "# Assign Action Tiers to Individual Clients based on their Segment Risk Score"
   ]
  },
  {
   "cell_type": "code",
   "execution_count": null,
   "id": "9cda3437",
   "metadata": {},
   "outputs": [],
   "source": [
    "import pandas as pd\n",
    "\n",
    "# Step 1: Load the individual client score file\n",
    "df = pd.read_csv(\"/Users/rg/ACADEMICS/Interview/Connected Data Comapany/MAY/Dataset/Unique_Scores_for_Client/clients_with_individual_segment_score.csv\")\n",
    "\n",
    "# Step 2: Define a function to assign Action Tier based on Segment_Risk_Score \n",
    "def assign_action_tier(score):\n",
    "    if score < 70:\n",
    "        return 'Tier 1 - Low Risk'\n",
    "    elif score < 100:\n",
    "        return 'Tier 2 - Medium Risk'\n",
    "    else:\n",
    "        return 'Tier 3 - High Risk'\n",
    "\n",
    "# Step 3: Apply the function to each client\n",
    "df['Action_Tier'] = df['Segment_Risk_Score'].apply(assign_action_tier)\n",
    "\n",
    "# Step 4: Save the updated file\n",
    "df.to_csv(\"/Users/rg/ACADEMICS/Interview/Connected Data Comapany/MAY/Dataset/Unique_Scores_for_Client/clients_with_individual_segment_score_with_tiers.csv\", index=False)\n",
    "\n",
    "print(\"\\n Successfully assigned Action Tiers and saved new file!\")\n"
   ]
  },
  {
   "cell_type": "code",
   "execution_count": null,
   "id": "08a8d802",
   "metadata": {},
   "outputs": [],
   "source": [
    "import pandas as pd\n",
    "\n",
    "# Step 1:  dataset\n",
    "df = pd.read_csv(\"/Users/rg/ACADEMICS/Interview/Connected Data Comapany/MAY/Dataset/Unique_Scores_for_Client/clients_with_individual_segment_score_with_tiers.csv\")\n",
    "\n",
    "# Step 2: Sort clients by Segment Risk Score in ascending order\n",
    "df_sorted = df.sort_values(by='Segment_Risk_Score', ascending=True)\n",
    "\n",
    "# Step 3:  sorted file\n",
    "df_sorted.to_csv(\"/Users/rg/ACADEMICS/Interview/Connected Data Comapany/MAY/Dataset/Unique_Scores_for_Client/clients_sorted_by_risk.csv\", index=False)\n",
    "\n",
    "print(\"\\n Successfully sorted clients by risk and saved to 'clients_sorted_by_risk.csv'!\")\n"
   ]
  },
  {
   "cell_type": "markdown",
   "id": "8c250419",
   "metadata": {},
   "source": [
    "##  PPT "
   ]
  },
  {
   "cell_type": "code",
   "execution_count": 1,
   "id": "deb6fb52",
   "metadata": {},
   "outputs": [
    {
     "name": "stdout",
     "output_type": "stream",
     "text": [
      "         UID Account Open Date  Arrears Balance Last Payment Date  \\\n",
      "0  320509935        1996-07-24             16.0        2025-03-19   \n",
      "1  920546839        2007-01-10            534.0        2025-03-02   \n",
      "2  857544841        2005-07-09           2821.0               NaN   \n",
      "3  741235324        2013-12-04            309.0        2025-03-28   \n",
      "4  153693439        2016-10-17           3879.0               NaN   \n",
      "\n",
      "  Last Collections Action Mobile Flag Email Flag dp1 Result Code  \\\n",
      "0                     SMS           Y          N        Deceased   \n",
      "1                     SMS           Y          N        Resident   \n",
      "2                   Phone           N          N        Resident   \n",
      "3                     SMS           Y          N        Resident   \n",
      "4                   Phone           N          N        Resident   \n",
      "\n",
      "  dp1 IVA/CCJ Flag  dp1 Score  ... dp3 Match Level dp3 Score dp3 Mobile Flag  \\\n",
      "0                N        0.0  ...             7.0     963.0               Y   \n",
      "1                N       76.0  ...             5.0     855.0               Y   \n",
      "2                N       39.0  ...             8.0     665.0               N   \n",
      "3                N       82.0  ...             4.0     893.0               Y   \n",
      "4                N       16.0  ...             2.0     296.0               Y   \n",
      "\n",
      "  dp3 Email Flag dp3 Latest Residency Confirmation Date  \\\n",
      "0              Y                             2023-07-12   \n",
      "1              N                             2024-06-09   \n",
      "2              Y                             2020-04-05   \n",
      "3              N                             2024-10-25   \n",
      "4              Y                             2025-09-22   \n",
      "\n",
      "                    Residency Zone Mobile_Available  Email_Available  \\\n",
      "0   Zone 4 - Neither says Resident                1                0   \n",
      "1  Zone 2 - Only dp1 says Resident                1                0   \n",
      "2               Zone 1 - Agreement                0                0   \n",
      "3               Zone 1 - Agreement                1                0   \n",
      "4               Zone 1 - Agreement                0                0   \n",
      "\n",
      "   Segment_Risk_Score           Action_Tier  \n",
      "0              137.19    Tier 3 - High Risk  \n",
      "1               77.17  Tier 2 - Medium Risk  \n",
      "2              206.04    Tier 3 - High Risk  \n",
      "3               65.12     Tier 1 - Low Risk  \n",
      "4              276.52    Tier 3 - High Risk  \n",
      "\n",
      "[5 rows x 27 columns]\n"
     ]
    }
   ],
   "source": [
    "import pandas as pd\n",
    "\n",
    "df = pd.read_csv(\"/Users/rg/ACADEMICS/Interview/Connected Data Comapany/MAY/Dataset/Unique_Scores_for_Client/clients_with_individual_segment_score_with_tiers.csv\")\n",
    "\n",
    "\n",
    "print(df.head())\n"
   ]
  },
  {
   "cell_type": "code",
   "execution_count": 2,
   "id": "bda909e9",
   "metadata": {},
   "outputs": [],
   "source": [
    "df.head().to_csv(\"/Users/rg/ACADEMICS/Interview/Connected Data Comapany/MAY/sample_client_scores.csv\", index=False)\n"
   ]
  },
  {
   "cell_type": "code",
   "execution_count": 4,
   "id": "ee785beb",
   "metadata": {},
   "outputs": [
    {
     "name": "stdout",
     "output_type": "stream",
     "text": [
      "         UID  dp1 Score  dp3 Score  Arrears Balance  \\\n",
      "0  320509935        0.0      963.0             16.0   \n",
      "1  920546839       76.0      855.0            534.0   \n",
      "2  857544841       39.0      665.0           2821.0   \n",
      "3  741235324       82.0      893.0            309.0   \n",
      "4  153693439       16.0      296.0           3879.0   \n",
      "\n",
      "                    Residency Zone  Segment_Risk_Score           Action_Tier  \n",
      "0   Zone 4 - Neither says Resident              137.19    Tier 3 - High Risk  \n",
      "1  Zone 2 - Only dp1 says Resident               77.17  Tier 2 - Medium Risk  \n",
      "2               Zone 1 - Agreement              206.04    Tier 3 - High Risk  \n",
      "3               Zone 1 - Agreement               65.12     Tier 1 - Low Risk  \n",
      "4               Zone 1 - Agreement              276.52    Tier 3 - High Risk  \n"
     ]
    }
   ],
   "source": [
    "import pandas as pd\n",
    "\n",
    "df = pd.read_csv(\"/Users/rg/ACADEMICS/Interview/Connected Data Comapany/MAY/sample_client_scores.csv\")\n",
    "\n",
    "\n",
    "print(df.head())\n"
   ]
  },
  {
   "cell_type": "markdown",
   "id": "f556772f",
   "metadata": {},
   "source": [
    "### 🎯 Segment Risk Score & Action Tier Assignment\n",
    "\n",
    "We engineered a custom **Segment Risk Score** using the following weighted formula:\n",
    "\n",
    "\\[\n",
    "\\text{Segment Risk Score} = \\frac{\\text{Avg Arrears}}{100} + (100 - \\text{dp1}) + \\frac{(100 - \\text{dp3})}{10} + \\frac{(100 - \\text{Pct_Mobile})}{2} + \\frac{(100 - \\text{Pct_Email})}{3}\n",
    "\\]\n",
    "\n",
    "Each client is then classified into an **Action Tier** based on their score:\n",
    "\n",
    "| Tier     | Score Range | Suggested Strategy             |\n",
    "|----------|-------------|--------------------------------|\n",
    "| Tier 1   | < 70        | Light-touch (email/SMS)        |\n",
    "| Tier 2   | 70–99       | Moderate effort (calls)        |\n",
    "| Tier 3   | ≥ 100       | Escalated / high effort        |\n",
    "\n",
    "🧩 These two new dimensions — `Segment Risk Score` and `Action Tier` — were added to the original dataset.  \n",
    "This allows for **targeted debt recovery strategies** per client based on quantified risk.\n"
   ]
  },
  {
   "cell_type": "markdown",
   "id": "0d6a04b0",
   "metadata": {},
   "source": []
  }
 ],
 "metadata": {
  "kernelspec": {
   "display_name": "PAPER",
   "language": "python",
   "name": "python3"
  },
  "language_info": {
   "codemirror_mode": {
    "name": "ipython",
    "version": 3
   },
   "file_extension": ".py",
   "mimetype": "text/x-python",
   "name": "python",
   "nbconvert_exporter": "python",
   "pygments_lexer": "ipython3",
   "version": "3.8.15"
  }
 },
 "nbformat": 4,
 "nbformat_minor": 5
}
