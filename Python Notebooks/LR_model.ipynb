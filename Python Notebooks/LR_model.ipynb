{
 "cells": [
  {
   "cell_type": "markdown",
   "id": "1e4f8e6b",
   "metadata": {},
   "source": [
    "# Logestic Regression Model\n"
   ]
  },
  {
   "cell_type": "markdown",
   "id": "85a73756",
   "metadata": {},
   "source": [
    "Can I predict whether a client has a mobile number — yes or no — based on their scores, arrears, and residency info?”\n",
    "\n",
    "yes, we can using a LR model."
   ]
  },
  {
   "cell_type": "markdown",
   "id": "92fb2255",
   "metadata": {},
   "source": [
    "But why predicting contact info (like Mobile number) actually makes sense ?\n",
    "\n",
    "We don’t always have full data for everyone\n",
    "\n",
    "- In debt datasets, some clients have partial info:\n",
    "\n",
    "- Others have mismatched, outdated, or missing contact data\n",
    "\n",
    "- Some have names and addresses but no verified mobile/email\n",
    "\n",
    "So instead of waiting for external partners to \"send back updates\" (which takes money/time ), we can use the data which we have to predict who’s likely to be contactable."
   ]
  },
  {
   "cell_type": "markdown",
   "id": "fdd1fcb8",
   "metadata": {},
   "source": [
    "Let’s say we are working with 10,000 client records.\n",
    "\n",
    "we want to buy contact info from Experian or Equifax, But they charge £0.10 per lookup\n",
    "\n",
    "That’s £1,000 to enrich all 10,000 records — but what if half of them are probably dead-ends?\n",
    "\n",
    "So instead, we predict which clients are most likely to be contactable, and only enrich the top 30% — the ones with the highest probability of success.\n",
    "\n",
    "This is a cost-saving strategy i believe, but not just a LR model prediction."
   ]
  },
  {
   "cell_type": "code",
   "execution_count": null,
   "id": "2adafad3",
   "metadata": {},
   "outputs": [
    {
     "name": "stdout",
     "output_type": "stream",
     "text": [
      " Missing values dropped and files saved!\n"
     ]
    }
   ],
   "source": [
    "import pandas as pd\n",
    "\n",
    "\n",
    "df = pd.read_csv(\"/Users/rg/ACADEMICS/Interview/Connected Data Comapany/MAY/Dataset/Modified/cleaned_connected_data_with_zones.csv\")\n",
    "\n",
    "# Clean mobile/email flags\n",
    "df['Mobile Flag'] = df['Mobile Flag'].str.strip().str.upper()\n",
    "df['Email Flag'] = df['Email Flag'].str.strip().str.upper()\n",
    "df['dp2 Council Tax Band'] = df['dp2 Council Tax Band'].str.strip().str.upper()\n",
    "df['dp2 Occupancy Style'] = df['dp2 Occupancy Style'].str.strip().str.title()\n",
    "\n",
    "# Create the target variable\n",
    "df['Has_Mobile'] = (df['Mobile Flag'] == 'Y').astype(int)\n",
    "\n",
    "# Create features\n",
    "features = df[['dp1 Score', 'dp3 Score', 'Arrears Balance']]\n",
    "zone_dummies = pd.get_dummies(df['Residency Zone'], prefix='Zone')\n",
    "occupancy_dummies = pd.get_dummies(df['dp2 Occupancy Style'], prefix='Occupancy')\n",
    "taxband_dummies = pd.get_dummies(df['dp2 Council Tax Band'], prefix='TaxBand')\n",
    "\n",
    "# Combine all features\n",
    "X = pd.concat([features, zone_dummies, occupancy_dummies, taxband_dummies], axis=1)\n",
    "\n",
    "# Drop rows with missing values\n",
    "X_cleaned = X.dropna()\n",
    "y_cleaned = df.loc[X_cleaned.index, 'Has_Mobile']  # Align target\n",
    "\n",
    "# Optional: Save the cleaned dataset\n",
    "X_cleaned.to_csv(\"/Users/rg/ACADEMICS/Interview/Connected Data Comapany/MAY/Dataset/Modified/cleaned_features_no_missing.csv\", index=False)\n",
    "y_cleaned.to_csv(\"/Users/rg/ACADEMICS/Interview/Connected Data Comapany/MAY/Dataset/Modified/cleaned_target_no_missing.csv\", index=False)\n",
    "\n",
    "print(\" Missing values dropped and files saved!\")\n"
   ]
  },
  {
   "cell_type": "code",
   "execution_count": 3,
   "id": "9a6dbb7a",
   "metadata": {},
   "outputs": [
    {
     "name": "stdout",
     "output_type": "stream",
     "text": [
      "\n",
      " Confusion Matrix:\n",
      " [[48 20]\n",
      " [15 30]]\n",
      "\n",
      " Classification Report:\n",
      "               precision    recall  f1-score   support\n",
      "\n",
      "           0       0.76      0.71      0.73        68\n",
      "           1       0.60      0.67      0.63        45\n",
      "\n",
      "    accuracy                           0.69       113\n",
      "   macro avg       0.68      0.69      0.68       113\n",
      "weighted avg       0.70      0.69      0.69       113\n",
      "\n",
      "\n",
      " Accuracy Score: 69.03 %\n"
     ]
    }
   ],
   "source": [
    "from sklearn.model_selection import train_test_split\n",
    "from sklearn.linear_model import LogisticRegression\n",
    "from sklearn.metrics import classification_report, confusion_matrix, accuracy_score\n",
    "\n",
    "\n",
    "X_cleaned = pd.read_csv(\"/Users/rg/ACADEMICS/Interview/Connected Data Comapany/MAY/Dataset/LR/cleaned_features_no_missing.csv\")\n",
    "y_cleaned = pd.read_csv(\"/Users/rg/ACADEMICS/Interview/Connected Data Comapany/MAY/Dataset/LR/cleaned_target_no_missing.csv\")\n",
    "\n",
    "# Train/Test Split\n",
    "X_train, X_test, y_train, y_test = train_test_split(X_cleaned, y_cleaned, test_size=0.2, random_state=42)\n",
    "\n",
    "# Logistic Regression Model\n",
    "model = LogisticRegression(max_iter=1000)\n",
    "model.fit(X_train, y_train.values.ravel())\n",
    "\n",
    "# Predict and Evaluate\n",
    "y_pred = model.predict(X_test)\n",
    "\n",
    "conf_matrix = confusion_matrix(y_test, y_pred)\n",
    "print(\"\\n Confusion Matrix:\\n\", conf_matrix)\n",
    "\n",
    "class_report = classification_report(y_test, y_pred)\n",
    "print(\"\\n Classification Report:\\n\", class_report)\n",
    "\n",
    "accuracy = accuracy_score(y_test, y_pred)\n",
    "print(\"\\n Accuracy Score:\", round(accuracy * 100, 2), \"%\")\n"
   ]
  },
  {
   "cell_type": "markdown",
   "id": "8e17c0e5",
   "metadata": {},
   "source": [
    "That’s pretty decent for considering:\n",
    "\n",
    "- predicting based on behavioral features, not phone records directly\n",
    "- Missing values were dropped (which reduces training size)\n",
    "- This is a real-world noisy problem where some mobile info may be incomplete or unrecorded"
   ]
  },
  {
   "cell_type": "markdown",
   "id": "ae0dbd58",
   "metadata": {},
   "source": [
    "- The model is solid for a basic proof-of-concept.\n",
    "- It found 2 out of 3 clients who had mobile numbers just from their other info.\n",
    "- It could be used for enrichment targeting, deciding where to invest lookup efforts, or choosing fallback channels (like mail or tracing)."
   ]
  }
 ],
 "metadata": {
  "kernelspec": {
   "display_name": "PAPER",
   "language": "python",
   "name": "python3"
  },
  "language_info": {
   "codemirror_mode": {
    "name": "ipython",
    "version": 3
   },
   "file_extension": ".py",
   "mimetype": "text/x-python",
   "name": "python",
   "nbconvert_exporter": "python",
   "pygments_lexer": "ipython3",
   "version": "3.8.15"
  }
 },
 "nbformat": 4,
 "nbformat_minor": 5
}
