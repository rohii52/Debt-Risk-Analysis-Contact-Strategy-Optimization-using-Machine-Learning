{
 "cells": [
  {
   "cell_type": "markdown",
   "metadata": {},
   "source": [
    "# Getting Started \n"
   ]
  },
  {
   "cell_type": "markdown",
   "metadata": {},
   "source": [
    "## Data Cleaning Steps\n",
    "\n",
    "1. **Remove Column Formatting Issues**  \n",
    "   - Strip leading/trailing spaces from column names to avoid errors during analysis.\n",
    "\n",
    "2. **Convert Dates**  \n",
    "   - Convert raw text dates into proper `datetime` format so they can be sorted, filtered, and used in calculations.\n",
    "\n",
    "3. **Identify Missing Values & Uniqueness**  \n",
    "   - Check which columns have missing data and how many **unique values** each column contains.  \n",
    "   - This helps identify categorical vs continuous variables.\n",
    "\n",
    "4. **Check Data Types**  \n",
    "   - Understand the type of each column (e.g., numbers, text, dates) so we can apply the correct operations later.\n"
   ]
  },
  {
   "cell_type": "code",
   "execution_count": 4,
   "metadata": {},
   "outputs": [],
   "source": [
    "import pandas as pd"
   ]
  },
  {
   "cell_type": "code",
   "execution_count": 5,
   "metadata": {},
   "outputs": [],
   "source": [
    "# dataset\n",
    "\n",
    "df = pd.read_csv(\"/Users/rg/ACADEMICS/Interview/Connected Data Comapany/MAY/Dataset/Raw/Connected Data Case Study v2.csv\")"
   ]
  },
  {
   "cell_type": "code",
   "execution_count": 6,
   "metadata": {},
   "outputs": [],
   "source": [
    "\n",
    "# Step 1: Clean column names\n",
    "# Why: Sometimes there are hidden spaces that cause bugs later (e.g. ' dp1 Score')\n",
    "\n",
    "df.columns = df.columns.str.strip()\n",
    "\n"
   ]
  },
  {
   "cell_type": "code",
   "execution_count": 7,
   "metadata": {},
   "outputs": [],
   "source": [
    "# Step 2: Convert date columns to datetime format\n",
    "# Why: Date columns like 'Account Open Date' are currently stored as plain text\n",
    "# Converting them lets us sort by date, filter by date, or calculate time differences\n",
    "\n",
    "date_columns = ['Account Open Date', 'Last Payment Date', \n",
    "                'dp1 Latest Residency Confirmation Date', \n",
    "                'dp3 Latest Residency Confirmation Date']\n",
    "\n",
    "for col in date_columns:\n",
    "    df[col] = pd.to_datetime(df[col], errors='coerce', dayfirst=True)  # Use dayfirst=True for UK-style dates\n"
   ]
  },
  {
   "cell_type": "code",
   "execution_count": 8,
   "metadata": {},
   "outputs": [
    {
     "name": "stdout",
     "output_type": "stream",
     "text": [
      "Shape of dataset: (1000, 22)\n"
     ]
    }
   ],
   "source": [
    "# Step 3: Understand the shape of the data\n",
    "\n",
    "print(\"Shape of dataset:\", df.shape)  # Rows and columns"
   ]
  },
  {
   "cell_type": "code",
   "execution_count": 9,
   "metadata": {},
   "outputs": [
    {
     "name": "stdout",
     "output_type": "stream",
     "text": [
      "\n",
      "Missing values per column:\n",
      " dp3 Latest Residency Confirmation Date    266\n",
      "dp3 Score                                 266\n",
      "dp3 Match Level                           266\n",
      "dp1 IVA/CCJ Flag                          234\n",
      "dp1 Latest Residency Confirmation Date    234\n",
      "dp1 Email Flag                            234\n",
      "dp1 Deceased Flag                         234\n",
      "dp1 Score                                 234\n",
      "dp1 Mobile Flag                           234\n",
      "dp3 Mobile Flag                           162\n",
      "dp3 Email Flag                            162\n",
      "Last Payment Date                          92\n",
      "Arrears Balance                            91\n",
      "dp2 Council Tax Band                       86\n",
      "dp2 Occupancy Style                        44\n",
      "dp1 Result Code                             0\n",
      "Email Flag                                  0\n",
      "Account Open Date                           0\n",
      "Mobile Flag                                 0\n",
      "Last Collections Action                     0\n",
      "dp3 Match Type                              0\n",
      "UID                                         0\n",
      "dtype: int64\n"
     ]
    }
   ],
   "source": [
    "# Step 4: Check missing values\n",
    "# Why: Helps us understand which columns need fixing or special handling\n",
    "\n",
    "missing_summary = df.isnull().sum().sort_values(ascending=False)\n",
    "print(\"\\nMissing values per column:\\n\", missing_summary)\n",
    "\n"
   ]
  },
  {
   "cell_type": "code",
   "execution_count": 10,
   "metadata": {},
   "outputs": [
    {
     "name": "stdout",
     "output_type": "stream",
     "text": [
      "\n",
      "Unique values per column:\n",
      " UID                                       1000\n",
      "Account Open Date                          953\n",
      "Arrears Balance                            666\n",
      "dp3 Latest Residency Confirmation Date     515\n",
      "dp3 Score                                  373\n",
      "dp1 Latest Residency Confirmation Date     265\n",
      "Last Payment Date                          254\n",
      "dp1 Score                                   97\n",
      "dp3 Match Level                              9\n",
      "dp2 Council Tax Band                         6\n",
      "dp3 Match Type                               4\n",
      "Last Collections Action                      4\n",
      "dp1 Result Code                              4\n",
      "dp2 Occupancy Style                          3\n",
      "dp1 Email Flag                               2\n",
      "Mobile Flag                                  2\n",
      "dp1 Deceased Flag                            2\n",
      "dp1 IVA/CCJ Flag                             2\n",
      "Email Flag                                   2\n",
      "dp3 Mobile Flag                              2\n",
      "dp3 Email Flag                               2\n",
      "dp1 Mobile Flag                              2\n",
      "dtype: int64\n"
     ]
    }
   ],
   "source": [
    "# Step 5: Check how many unique values each column has\n",
    "# Why: Helps identify categorical columns vs continuous ones\n",
    "\n",
    "unique_summary = df.nunique().sort_values(ascending=False)\n",
    "print(\"\\nUnique values per column:\\n\", unique_summary)\n",
    "\n"
   ]
  },
  {
   "cell_type": "code",
   "execution_count": 11,
   "metadata": {},
   "outputs": [
    {
     "name": "stdout",
     "output_type": "stream",
     "text": [
      "\n",
      "Data types:\n",
      " UID                                                int64\n",
      "Account Open Date                         datetime64[ns]\n",
      "Arrears Balance                                  float64\n",
      "Last Payment Date                         datetime64[ns]\n",
      "Last Collections Action                           object\n",
      "Mobile Flag                                       object\n",
      "Email Flag                                        object\n",
      "dp1 Result Code                                   object\n",
      "dp1 IVA/CCJ Flag                                  object\n",
      "dp1 Score                                        float64\n",
      "dp1 Deceased Flag                                 object\n",
      "dp1 Mobile Flag                                   object\n",
      "dp1 Email Flag                                    object\n",
      "dp1 Latest Residency Confirmation Date    datetime64[ns]\n",
      "dp2 Council Tax Band                              object\n",
      "dp2 Occupancy Style                               object\n",
      "dp3 Match Type                                    object\n",
      "dp3 Match Level                                  float64\n",
      "dp3 Score                                        float64\n",
      "dp3 Mobile Flag                                   object\n",
      "dp3 Email Flag                                    object\n",
      "dp3 Latest Residency Confirmation Date    datetime64[ns]\n",
      "dtype: object\n"
     ]
    }
   ],
   "source": [
    "# Step 6: Check data types\n",
    "# Why: We need to know which are numbers, text, dates, etc.\n",
    "\n",
    "print(\"\\nData types:\\n\", df.dtypes)"
   ]
  },
  {
   "cell_type": "code",
   "execution_count": 12,
   "metadata": {},
   "outputs": [],
   "source": [
    "df.to_csv('/Users/rg/ACADEMICS/Interview/Connected Data Comapany/MAY/Dataset/Modified/cleaned_connected_data.csv', index=False)\n",
    "\n"
   ]
  },
  {
   "cell_type": "markdown",
   "metadata": {},
   "source": [
    "# Question- 1\n"
   ]
  },
  {
   "cell_type": "code",
   "execution_count": 13,
   "metadata": {},
   "outputs": [
    {
     "name": "stdout",
     "output_type": "stream",
     "text": [
      "\n",
      " DP1 vs DP3 Residency Comparison Matrix (Rows & Columns Ordered):\n",
      " \n",
      "dp3 Match Type      Resident  Forwarding Address  Unmatched  Deceased\n",
      "dp1 Result Code                                                      \n",
      "Resident                 548                  37         49        21\n",
      "Forwarding Address        17                  18          2         7\n",
      "Unmatched                 81                  29        109        15\n",
      "Deceased                   2                   2          2        61\n"
     ]
    }
   ],
   "source": [
    "import pandas as pd\n",
    "\n",
    "# dataset \n",
    "df = pd.read_csv(\"/Users/rg/ACADEMICS/Interview/Connected Data Comapany/MAY/Dataset/Modified/cleaned_connected_data.csv\")\n",
    "\n",
    "# Counting Combination\n",
    "comparison = df.groupby(['dp1 Result Code', 'dp3 Match Type']).size().reset_index(name='Count')\n",
    "\n",
    "# pivot table \n",
    "comparison_matrix = comparison.pivot(\n",
    "    index='dp1 Result Code',\n",
    "    columns='dp3 Match Type',\n",
    "    values='Count'\n",
    ").fillna(0).astype(int)  # Filling empty cells with 0\n",
    "\n",
    "\n",
    "ordered_rows = ['Resident', 'Forwarding Address', 'Unmatched', 'Deceased']\n",
    "ordered_columns = ['Resident', 'Forwarding Address', 'Unmatched', 'Deceased']\n",
    "comparison_matrix = comparison_matrix.reindex(index=ordered_rows, columns=ordered_columns)\n",
    "\n",
    "\n",
    "print(\"\\n DP1 vs DP3 Residency Comparison Matrix (Rows & Columns Ordered):\")\n",
    "print(\" \")\n",
    "print(comparison_matrix)\n",
    "\n",
    "\n",
    "\n"
   ]
  },
  {
   "cell_type": "markdown",
   "metadata": {},
   "source": [
    "## DP1 vs DP3 Residency Comparison Matrix (Rows & Columns Ordered)\n",
    "\n",
    "| **Dp1 Result Code ↓ / Dp3 Match Type →** | Resident | Forwarding Address | Unmatched | Deceased |\n",
    "|------------------------------------------|----------|---------------------|-----------|----------|\n",
    "| **Resident**                             | **548**  | 37                  | 49        | 21       |\n",
    "| **Forwarding Address**                   | 17       | 18                  | 2         | 7        |\n",
    "| **Unmatched**                            | 81       | 29                  | 109       | 15       |\n",
    "| **Deceased**                             | 2        | 2                   | 2         | **61**   |\n"
   ]
  },
  {
   "cell_type": "markdown",
   "metadata": {},
   "source": [
    "## Exploring other methods "
   ]
  },
  {
   "cell_type": "code",
   "execution_count": 14,
   "metadata": {},
   "outputs": [
    {
     "name": "stdout",
     "output_type": "stream",
     "text": [
      " Agreed on Resident: 548 (54.8%)\n",
      " Disagreed or Unmatched: 452 (45.2%)\n"
     ]
    }
   ],
   "source": [
    "import pandas as pd\n",
    "# 1. Agreement vs Disagreement Rate\n",
    "\n",
    "# Create flags\n",
    "df['dp1_resident'] = df['dp1 Result Code'] == 'Resident'\n",
    "df['dp3_resident'] = df['dp3 Match Type'] == 'Resident'\n",
    "df['agreed_resident'] = df['dp1_resident'] & df['dp3_resident']\n",
    "\n",
    "# Agreement rate\n",
    "total = len(df)\n",
    "agreed = df['agreed_resident'].sum()\n",
    "disagreed = total - agreed\n",
    "\n",
    "print(f\" Agreed on Resident: {agreed} ({agreed/total:.1%})\")\n",
    "print(f\" Disagreed or Unmatched: {disagreed} ({disagreed/total:.1%})\")\n"
   ]
  },
  {
   "cell_type": "code",
   "execution_count": 15,
   "metadata": {},
   "outputs": [],
   "source": [
    "# 2. Score Difference Analysis\n",
    "\n",
    "df['Score Difference'] = df['dp1 Score'] - df['dp3 Score']\n"
   ]
  },
  {
   "cell_type": "markdown",
   "metadata": {},
   "source": [
    "## Key Findings\n",
    "\n",
    "### 1. Agreement on \"Resident\"\n",
    "- **548 clients** are marked *Resident* by both dp1 and dp3 — strong confirmation.\n",
    "- This group represents the highest confidence for traceable and contactable clients.\n",
    "\n",
    "### 2. Disagreements\n",
    "- **49 clients**: dp1 = *Resident*, dp3 = *Unmatched* → disagreement.\n",
    "- **37 clients**: dp1 = *Resident*, dp3 = *Forwarding* → likely moved.\n",
    "\n",
    "**Interpretation:**  \n",
    "dp3 provides valuable updates or corrections to dp1.  \n",
    "Using both sources together gives a **fuller, more accurate picture** of each client.\n",
    "\n",
    "### 3. Deceased Mismatches\n",
    "- **21 clients** are marked *Resident* by dp1 but *Deceased* by dp3.\n",
    "- This is a critical finding — dp3 may be capturing death records that dp1 misses.\n",
    "\n",
    "**Impact:**  \n",
    "Combining both sources helps **avoid serious errors**, such as contacting deceased individuals.\n",
    "\n",
    "### 4. Coverage Boost\n",
    "- Using **only dp1** means missing dp3’s updates and enhancements.\n",
    "- Using **only dp3** means missing dp1’s confirmations.\n",
    "\n",
    "### Therefore, combining both partners gives us:\n",
    "- More accurate residency confirmation\n",
    "- Better risk and compliance control\n",
    "- Higher right-party contact rates\n"
   ]
  },
  {
   "cell_type": "markdown",
   "metadata": {},
   "source": [
    "## Method I Suggest\n",
    "\n",
    "---\n",
    "\n",
    "### Contactability Uplift Through Agreement & Disagreement Zones\n",
    "\n",
    "Let’s divide all clients into 4 zones based on what dp1 and dp3 say about residency — and compare how contactable they are in each zone.\n",
    "\n",
    "---\n",
    "\n",
    "### The 4 Zones:\n",
    "\n",
    "| Zone    | dp1 Result Code | dp3 Match Type | What It Means                         |\n",
    "|---------|------------------|----------------|----------------------------------------|\n",
    "| ZONE 1  | Resident          | Resident       | High confidence — strong agreement     |\n",
    "| ZONE 2  | Resident          | NOT Resident   | dp1 says yes, dp3 says no              |\n",
    "| ZONE 3  | NOT Resident      | Resident       | dp1 missed, dp3 found them             |\n",
    "| ZONE 4  | NOT Resident      | NOT Resident   | Neither can confirm                    |\n",
    "\n",
    "---\n",
    "\n",
    "### Interpretation Summary:\n",
    "\n",
    "1. **Zone 1** → both dp1 and dp3 say *\"Resident\"*\n",
    "2. **Zone 2** → dp1 says *\"Resident\"*, dp3 says something else\n",
    "3. **Zone 3** → dp3 says *\"Resident\"*, dp1 says something else\n",
    "4. **Zone 4** → both say *NOT Resident*\n"
   ]
  },
  {
   "cell_type": "code",
   "execution_count": 16,
   "metadata": {},
   "outputs": [],
   "source": [
    "import pandas as pd\n",
    "\n",
    "# dataset\n",
    "df = pd.read_csv(\"/Users/rg/ACADEMICS/Interview/Connected Data Comapany/MAY/Dataset/Modified/cleaned_connected_data.csv\")\n",
    "\n",
    "#  function assiging residency zones\n",
    "def assign_residency_zone(row):\n",
    "    dp1 = row['dp1 Result Code']\n",
    "    dp3 = row['dp3 Match Type']\n",
    "    \n",
    "    if dp1 == \"Resident\" and dp3 == \"Resident\":\n",
    "        return \"Zone 1 - Agreement\"\n",
    "    elif dp1 == \"Resident\" and dp3 != \"Resident\":\n",
    "        return \"Zone 2 - Only dp1 says Resident\"\n",
    "    elif dp1 != \"Resident\" and dp3 == \"Resident\":\n",
    "        return \"Zone 3 - Only dp3 says Resident\"\n",
    "    else:\n",
    "        return \"Zone 4 - Neither says Resident\"\n",
    "\n",
    "\n",
    "df['Residency Zone'] = df.apply(assign_residency_zone, axis=1)\n",
    "\n",
    "\n"
   ]
  },
  {
   "cell_type": "code",
   "execution_count": null,
   "metadata": {},
   "outputs": [],
   "source": [
    "# modified dataFrame with the new Residency Zone column\n",
    "#df.to_csv(\"/Users/rg/ACADEMICS/Interview/Connected Data Comapany/MAY/Dataset/Modified/cleaned_connected_data_with_zones.csv\", index=False)\n"
   ]
  },
  {
   "cell_type": "code",
   "execution_count": 20,
   "metadata": {},
   "outputs": [
    {
     "name": "stdout",
     "output_type": "stream",
     "text": [
      "\n",
      "Client counts by residency zone:\n",
      "\n",
      "Residency Zone\n",
      "Zone 1 - Agreement                 548\n",
      "Zone 4 - Neither says Resident     245\n",
      "Zone 2 - Only dp1 says Resident    107\n",
      "Zone 3 - Only dp3 says Resident    100\n",
      "Name: count, dtype: int64\n"
     ]
    }
   ],
   "source": [
    "# seeing how many clients fall into each zone\n",
    "zone_counts = df['Residency Zone'].value_counts()\n",
    "print(\"\\nClient counts by residency zone:\\n\")\n",
    "print(zone_counts)"
   ]
  },
  {
   "cell_type": "markdown",
   "metadata": {},
   "source": [
    "## My Analysis Summary\n",
    "\n",
    "I grouped clients into 4 residency zones based on whether dp1 and dp3 agreed or disagreed on the client’s address.  \n",
    "Then I calculated the percentage of clients with mobile/email contact, as well as average dp1 and dp3 scores.\n",
    "\n",
    "### Key Findings:\n",
    "\n",
    "1. **Zone 1 (Agreement)** had the highest score confidence, and strong mobile availability (**41.2%**).\n",
    "\n",
    "2. **Zone 3 (Only dp3 says Resident)** showed that dp3 recovered **42% mobile contact** from clients that dp1 would have missed.\n",
    "\n",
    "3. **Zone 4 (Neither partner says Resident)** had low scores and contactability, proving the value of data filtering and deprioritisation.\n",
    "\n",
    "4. **dp1 scores were lowest in Zone 4 and highest in Zone 1**, suggesting that dp1 scores are consistent with confirmed residency.\n",
    "\n",
    "### Conclusion:\n",
    "\n",
    "Combining dp1 and dp3 provides better residency confirmation, enhances contactability, and supports smarter client targeting.\n"
   ]
  },
  {
   "cell_type": "code",
   "execution_count": 21,
   "metadata": {},
   "outputs": [
    {
     "name": "stdout",
     "output_type": "stream",
     "text": [
      "\n",
      "Contactability & Scores by Residency Zone:\n",
      "\n",
      "                 Residency Zone  Total Clients  % Mobile Available  % Email Available  Avg dp1 Score  Avg dp3 Score  Avg Arrears (£)\n",
      "             Zone 1 - Agreement            548               41.24              29.20          65.55         747.04         1,351.33\n",
      "Zone 2 - Only dp1 says Resident            107               40.19              35.51          64.31         717.65         1,483.55\n",
      "Zone 3 - Only dp3 says Resident            100               42.00              31.00          58.26         744.56         1,222.18\n",
      " Zone 4 - Neither says Resident            245               40.41              26.94          24.05         778.10         1,338.54\n"
     ]
    }
   ],
   "source": [
    "\n",
    "\n",
    "import pandas as pd\n",
    "\n",
    "# Load your cleaned dataset\n",
    "df = pd.read_csv(\"/Users/rg/ACADEMICS/Interview/Connected Data Comapany/MAY/Dataset/Modified/cleaned_connected_data_with_zones.csv\")\n",
    "\n",
    "# Create a function to assign residency zones\n",
    "def assign_residency_zone(row):\n",
    "    dp1 = row['dp1 Result Code']\n",
    "    dp3 = row['dp3 Match Type']\n",
    "    \n",
    "    if dp1 == \"Resident\" and dp3 == \"Resident\":\n",
    "        return \"Zone 1 - Agreement\"\n",
    "    elif dp1 == \"Resident\" and dp3 != \"Resident\":\n",
    "        return \"Zone 2 - Only dp1 says Resident\"\n",
    "    elif dp1 != \"Resident\" and dp3 == \"Resident\":\n",
    "        return \"Zone 3 - Only dp3 says Resident\"\n",
    "    else:\n",
    "        return \"Zone 4 - Neither says Resident\"\n",
    "\n",
    "# Apply zone function\n",
    "df['Residency Zone'] = df.apply(assign_residency_zone, axis=1)\n",
    "\n",
    "# Standardize contact flag values\n",
    "df['Mobile Flag'] = df['Mobile Flag'].str.strip().str.upper()\n",
    "df['Email Flag'] = df['Email Flag'].str.strip().str.upper()\n",
    "\n",
    "# Group and summarize key metrics per zone\n",
    "summary = df.groupby('Residency Zone').agg(\n",
    "    Total_Clients=('UID', 'count'),\n",
    "    Mobile_Y=('Mobile Flag', lambda x: (x == 'Y').sum()),\n",
    "    Email_Y=('Email Flag', lambda x: (x == 'Y').sum()),\n",
    "    Avg_dp1_Score=('dp1 Score', 'mean'),\n",
    "    Avg_dp3_Score=('dp3 Score', 'mean'),\n",
    "    Avg_Arrears=('Arrears Balance', 'mean')\n",
    ").reset_index()\n",
    "\n",
    "# Calculate contactability percentages\n",
    "summary['% Mobile Available'] = (summary['Mobile_Y'] / summary['Total_Clients'] * 100).round(2)\n",
    "summary['% Email Available'] = (summary['Email_Y'] / summary['Total_Clients'] * 100).round(2)\n",
    "\n",
    "# Final formatted columns\n",
    "summary = summary[['Residency Zone', 'Total_Clients', '% Mobile Available', '% Email Available',\n",
    "                   'Avg_dp1_Score', 'Avg_dp3_Score', 'Avg_Arrears']]\n",
    "\n",
    "# Rename columns for clean presentation\n",
    "summary.columns = [\n",
    "    'Residency Zone',\n",
    "    'Total Clients',\n",
    "    '% Mobile Available',\n",
    "    '% Email Available',\n",
    "    'Avg dp1 Score',\n",
    "    'Avg dp3 Score',\n",
    "    'Avg Arrears (£)'\n",
    "]\n",
    "\n",
    "# Optional: Format floats to look clean\n",
    "pd.options.display.float_format = '{:,.2f}'.format\n",
    "\n",
    "# Print final summary\n",
    "print(\"\\nContactability & Scores by Residency Zone:\\n\")\n",
    "print(summary.to_string(index=False))\n",
    "\n"
   ]
  },
  {
   "cell_type": "markdown",
   "metadata": {},
   "source": [
    "##  My Inference\n",
    "\n",
    "---\n",
    "\n",
    "### 1.  dp3 Adds Value — Especially in *Zone 3*\n",
    "\n",
    "100 clients that dp1 **missed** are **rescued by dp3**. These clients show:\n",
    "\n",
    "-  Highest mobile contact rate: **42%**\n",
    "-  Strong email match rate: **31%**\n",
    "-  Solid dp3 scores\n",
    "\n",
    ">  **Conclusion:** *dp3 identifies traceable clients that dp1 would miss — and they’re just as contactable.*\n",
    "\n",
    "---\n",
    "\n",
    "### 2.  Combining dp1 + dp3 Gives the Best Chance of Success\n",
    "\n",
    "-  **Zone 1 (Agreement)** = Confident outreach target\n",
    "-  **Zone 2 & 3** show that **either partner alone misses valuable clients**\n",
    "- Combining both reduces risk of errors\n",
    "    - e.g., dp1 = Unmatched but dp3 = Resident \n",
    "\n",
    ">  **Conclusion:** *Using both partners leads to stronger targeting, better decisions, and fewer missed opportunities.*\n",
    "\n",
    "---\n",
    "\n",
    "### 3.  Zone 4 Should Be De prioritized\n",
    "\n",
    "- Neither partner confirms residency\n",
    "- Lowest **email availability** (26.9%)\n",
    "- Lowest **dp1 Score** (24.05)\n",
    "\n",
    "> **Conclusion:** *We should avoid wasting resources on Zone 4 clients.*\n",
    "\n",
    "---\n",
    "\n",
    "###  Final Takeaway\n",
    "\n",
    ">   This proves that combining dp1 and dp3:\n",
    "> - Improves **residency confirmation**\n",
    "> - Enhances **contact data**\n",
    "> - Helps deliver **measurable business outcomes**\n"
   ]
  },
  {
   "cell_type": "markdown",
   "metadata": {},
   "source": [
    "## Visualisations "
   ]
  },
  {
   "cell_type": "code",
   "execution_count": 19,
   "metadata": {},
   "outputs": [
    {
     "data": {
      "image/png": "[encoded data removed]",
      "text/plain": [
       "<Figure size 1000x600 with 1 Axes>"
      ]
     },
     "metadata": {},
     "output_type": "display_data"
    }
   ],
   "source": [
    "import pandas as pd\n",
    "import matplotlib.pyplot as plt\n",
    "\n",
    "# Load the cleaned dataset\n",
    "df = pd.read_csv(\"/Users/rg/ACADEMICS/Interview/Connected Data Comapany/MAY/Dataset/Modified/cleaned_connected_data.csv\")\n",
    "\n",
    "# Create grouped data\n",
    "comparison = df.groupby(['dp1 Result Code', 'dp3 Match Type']).size().reset_index(name='Count')\n",
    "matrix = comparison.pivot(index='dp1 Result Code', columns='dp3 Match Type', values='Count').fillna(0).astype(int)\n",
    "\n",
    "# Custom order for rows and columns\n",
    "ordered_rows = ['Resident', 'Forwarding Address', 'Unmatched', 'Deceased']\n",
    "ordered_columns = ['Resident', 'Forwarding Address', 'Unmatched', 'Deceased']\n",
    "matrix = matrix.reindex(index=ordered_rows, columns=ordered_columns)\n",
    "\n",
    "# Plot stacked bar chart\n",
    "ax = matrix.plot(kind='bar', stacked=True, figsize=(10, 6), colormap='tab10')\n",
    "\n",
    "# Add titles and labels\n",
    "plt.title(\"Stacked Comparison: dp1 Result Code vs dp3 Match Type\", fontsize=14)\n",
    "plt.xlabel(\"dp1 Result Code\", fontsize=12)\n",
    "plt.ylabel(\"Number of Clients\", fontsize=12)\n",
    "plt.xticks(rotation=0)\n",
    "plt.legend(title=\"dp3 Match Type\", bbox_to_anchor=(1.05, 1), loc='upper left')\n",
    "\n",
    "plt.grid(axis='y', linestyle='--', alpha=0.6)\n",
    "plt.tight_layout()\n",
    "\n",
    "plt.show()\n"
   ]
  },
  {
   "cell_type": "code",
   "execution_count": 20,
   "metadata": {},
   "outputs": [
    {
     "data": {
      "image/png": "[encoded data removed]",
      "text/plain": [
       "<Figure size 800x600 with 2 Axes>"
      ]
     },
     "metadata": {},
     "output_type": "display_data"
    }
   ],
   "source": [
    "import pandas as pd\n",
    "import seaborn as sns\n",
    "import matplotlib.pyplot as plt\n",
    "\n",
    "# Load the cleaned dataset\n",
    "df = pd.read_csv(\"/Users/rg/ACADEMICS/Interview/Connected Data Comapany/MAY/Dataset/Modified/cleaned_connected_data.csv\")\n",
    "\n",
    "# Create pivot table again\n",
    "comparison = df.groupby(['dp1 Result Code', 'dp3 Match Type']).size().reset_index(name='Count')\n",
    "matrix = comparison.pivot(index='dp1 Result Code', columns='dp3 Match Type', values='Count').fillna(0).astype(int)\n",
    "\n",
    "# Custom order\n",
    "ordered_rows = ['Resident', 'Forwarding Address', 'Unmatched', 'Deceased']\n",
    "ordered_cols = ['Resident', 'Forwarding Address', 'Unmatched', 'Deceased']\n",
    "matrix = matrix.reindex(index=ordered_rows, columns=ordered_cols)\n",
    "\n",
    "# Plot heatmap\n",
    "plt.figure(figsize=(8, 6))\n",
    "sns.heatmap(matrix, annot=True, fmt='d', cmap='Blues', linewidths=.5, cbar_kws={\"label\": \"Client Count\"})\n",
    "\n",
    "# Labels and titles\n",
    "plt.title(\"Heatmap: dp1 vs dp3 Residency Comparison\", fontsize=14)\n",
    "plt.xlabel(\"dp3 Match Type\", fontsize=12)\n",
    "plt.ylabel(\"dp1 Result Code\", fontsize=12)\n",
    "plt.xticks(rotation=45)\n",
    "plt.yticks(rotation=0)\n",
    "\n",
    "plt.tight_layout()\n",
    "plt.show()\n"
   ]
  },
  {
   "cell_type": "markdown",
   "metadata": {},
   "source": [
    "## Contact Enhancement"
   ]
  },
  {
   "cell_type": "code",
   "execution_count": 30,
   "metadata": {},
   "outputs": [
    {
     "name": "stdout",
     "output_type": "stream",
     "text": [
      "\n",
      "📊 Contactability by Residency Zone:\n",
      "\n",
      "                 Residency Zone  Total_Clients  % Mobile Available  % Email Available  % Has Both\n",
      "             Zone 1 - Agreement            548               41.20              29.20        0.00\n",
      "Zone 2 - Only dp1 says Resident            107               40.20              35.50        0.00\n",
      "Zone 3 - Only dp3 says Resident            100               42.00              31.00        0.00\n",
      " Zone 4 - Neither says Resident            245               40.40              26.90        0.00\n"
     ]
    }
   ],
   "source": [
    "import pandas as pd\n",
    "\n",
    "# Load your cleaned dataset\n",
    "df = pd.read_csv(\"/Users/rg/ACADEMICS/Interview/Connected Data Comapany/MAY/Dataset/Modified/cleaned_connected_data_with_zones.csv\")\n",
    "\n",
    "# Step 1: Clean and prepare the flags\n",
    "df['Mobile Flag'] = df['Mobile Flag'].str.strip().str.upper()\n",
    "df['Email Flag'] = df['Email Flag'].str.strip().str.upper()\n",
    "\n",
    "# Step 2: Create a new flag - Has Both Mobile and Email\n",
    "df['Has_Both'] = (df['Mobile Flag'] == 'Y') & (df['Email Flag'] == 'Y')\n",
    "\n",
    "# Step 3: Group by Residency Zone\n",
    "summary = df.groupby('Residency Zone').agg(\n",
    "    Total_Clients=('UID', 'count'),\n",
    "    Has_Mobile=('Mobile Flag', lambda x: (x == 'Y').sum()),\n",
    "    Has_Email=('Email Flag', lambda x: (x == 'Y').sum()),\n",
    "    Has_Both=('Has_Both', 'sum')\n",
    ").reset_index()\n",
    "\n",
    "# Step 4: Calculate percentage contactability\n",
    "summary['% Mobile Available'] = (summary['Has_Mobile'] / summary['Total_Clients'] * 100).round(1)\n",
    "summary['% Email Available'] = (summary['Has_Email'] / summary['Total_Clients'] * 100).round(1)\n",
    "summary['% Has Both'] = (summary['Has_Both'] / summary['Total_Clients'] * 100).round(1)\n",
    "\n",
    "# Step 5: Final output\n",
    "final_summary = summary[['Residency Zone', 'Total_Clients', '% Mobile Available', '% Email Available', '% Has Both']]\n",
    "\n",
    "# Display the result\n",
    "print(\"\\n📊 Contactability by Residency Zone:\\n\")\n",
    "print(final_summary.to_string(index=False))\n"
   ]
  },
  {
   "cell_type": "markdown",
   "metadata": {},
   "source": [
    "no client has both mobile and email flagged as 'Y' in our dataset."
   ]
  },
  {
   "cell_type": "markdown",
   "metadata": {},
   "source": [
    "It is a valuable insight:\n",
    "“Across all residency zones, not a single client had both mobile and email.\n",
    "This shows the contact data is very shallow, we need enhance it through external partners is essential.”"
   ]
  }
 ],
 "metadata": {
  "kernelspec": {
   "display_name": "PAPER",
   "language": "python",
   "name": "python3"
  },
  "language_info": {
   "codemirror_mode": {
    "name": "ipython",
    "version": 3
   },
   "file_extension": ".py",
   "mimetype": "text/x-python",
   "name": "python",
   "nbconvert_exporter": "python",
   "pygments_lexer": "ipython3",
   "version": "3.8.15"
  }
 },
 "nbformat": 4,
 "nbformat_minor": 2
}
