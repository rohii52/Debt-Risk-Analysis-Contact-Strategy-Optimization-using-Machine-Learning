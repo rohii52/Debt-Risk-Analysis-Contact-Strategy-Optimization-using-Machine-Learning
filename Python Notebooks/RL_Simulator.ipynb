{
 "cells": [
  {
   "cell_type": "markdown",
   "id": "602c4fbb",
   "metadata": {},
   "source": [
    "# Self-Learning Contact Strategy Simulator"
   ]
  },
  {
   "cell_type": "markdown",
   "id": "6ee059eb",
   "metadata": {},
   "source": [
    "We're simulating a real-world debt recovery scenario:\n",
    "\n",
    "- Each client needs to be contacted.\n",
    "- You can try SMS, Email, or a Manual Call.\n",
    "- Not every method works for every client.\n",
    "- We’ll simulate how successful each method is depending on the client’s profile.\n",
    "\n",
    "Over time, the system learns which methods work best first using Reinforcement Learning ideas.\n",
    "\n",
    "\n",
    "\n",
    "\n"
   ]
  },
  {
   "cell_type": "markdown",
   "id": "a9cbc421",
   "metadata": {},
   "source": [
    "In real debt recovery, we don't want to call everyone manually — it's expensive. But we also don’t want to miss recovery from someone who won’t reply to SMS/email.\n",
    "\n",
    " - - This simulator helps decide:\n",
    "- - \n",
    "\n",
    "- Who should get an SMS first?\n",
    "- Who is worth a direct call?\n",
    "- Who can be left to an email reminder?\n",
    "\n",
    "It’s like trial-and-error simulation , but with logic behind it."
   ]
  },
  {
   "cell_type": "markdown",
   "id": "ca98df6d",
   "metadata": {},
   "source": [
    "CD Project can use this to:\n",
    "\n",
    "- Test new strategies\n",
    "- Save contact cost\n",
    "- Prioritize contact efforts by likelihood of success"
   ]
  },
  {
   "cell_type": "markdown",
   "id": "06a70a84",
   "metadata": {},
   "source": [
    "## Taking this as an RL Problem\n",
    "\n",
    "\n",
    "\n",
    "1. State = Client profile (Segment score, contact info, etc.)\n",
    "2. Actions = [SMS, Email, Call]\n",
    "3. Rewards = Simulated chance of success ( defining probabilities for now)\n",
    "\n"
   ]
  },
  {
   "cell_type": "markdown",
   "id": "7e9c9069",
   "metadata": {},
   "source": [
    "A basic policy will be:\n",
    "\n",
    "- Try SMS first.\n",
    "- If failed, fallback to Email.\n",
    "- If failed, do a Manual Call.\n",
    "\n",
    "Eventually a smart agent could learn to skip email if the client is high risk and go straight to call — but starting with a rule-based simulator"
   ]
  },
  {
   "cell_type": "code",
   "execution_count": 1,
   "id": "c4ab4200",
   "metadata": {},
   "outputs": [],
   "source": [
    "import pandas as pd\n",
    "import numpy as np\n",
    "import random"
   ]
  },
  {
   "cell_type": "code",
   "execution_count": null,
   "id": "37f4f6f3",
   "metadata": {},
   "outputs": [
    {
     "name": "stdout",
     "output_type": "stream",
     "text": [
      "Simulation complete! Here are the first few rows:\n",
      "\n",
      "         UID          Risk Tier Final Action        Contact Path  Success  \\\n",
      "0  194477727  Tier 1 - Low Risk          SMS                 SMS        1   \n",
      "1  384979263  Tier 1 - Low Risk         Call  SMS → Email → Call        1   \n",
      "2  278387760  Tier 1 - Low Risk          SMS                 SMS        1   \n",
      "3  793208927  Tier 1 - Low Risk         Call  SMS → Email → Call        1   \n",
      "4  626258645  Tier 1 - Low Risk         Call  SMS → Email → Call        1   \n",
      "5  768599736  Tier 1 - Low Risk        Email         SMS → Email        1   \n",
      "6  193700333  Tier 1 - Low Risk          SMS                 SMS        1   \n",
      "7  444355405  Tier 1 - Low Risk          SMS                 SMS        1   \n",
      "8  644114704  Tier 1 - Low Risk          SMS                 SMS        1   \n",
      "9  895570481  Tier 1 - Low Risk          SMS                 SMS        1   \n",
      "\n",
      "             Comment  \n",
      "0    Success via SMS  \n",
      "1   Success via Call  \n",
      "2    Success via SMS  \n",
      "3   Success via Call  \n",
      "4   Success via Call  \n",
      "5  Success via Email  \n",
      "6    Success via SMS  \n",
      "7    Success via SMS  \n",
      "8    Success via SMS  \n",
      "9    Success via SMS  \n"
     ]
    }
   ],
   "source": [
    "\n",
    "\n",
    "# dataset\n",
    "df = pd.read_csv(\"/Users/rg/ACADEMICS/Interview/Connected Data Comapany/MAY/Dataset/Client_Embeddings_NN/clients_with_Kmeans_cluster_strategies.csv\")\n",
    "\n",
    "# fixed success probabilities - cause anyway it wil learn later\n",
    "success_rates = {\n",
    "    'SMS': {\n",
    "        'Tier 1 - Low Risk': 0.8,\n",
    "        'Tier 2 - Medium Risk': 0.6,\n",
    "        'Tier 3 - High Risk': 0.3\n",
    "    },\n",
    "    'Email': {\n",
    "        'Tier 1 - Low Risk': 0.5,\n",
    "        'Tier 2 - Medium Risk': 0.4,\n",
    "        'Tier 3 - High Risk': 0.2\n",
    "    },\n",
    "    'Call': {\n",
    "        'Tier 1 - Low Risk': 0.7,\n",
    "        'Tier 2 - Medium Risk': 0.7,\n",
    "        'Tier 3 - High Risk': 0.5\n",
    "    }\n",
    "}\n",
    "\n",
    "# Simulator \n",
    "def simulate_contact(uid, risk_tier):\n",
    "    path = []\n",
    "    for method in ['SMS', 'Email', 'Call']:\n",
    "        path.append(method)\n",
    "        prob = success_rates[method][risk_tier]\n",
    "        if random.random() < prob:\n",
    "            return {\n",
    "                'UID': uid,\n",
    "                'Risk Tier': risk_tier,\n",
    "                'Final Action': method,\n",
    "                'Contact Path': \" → \".join(path),\n",
    "                'Success': 1,\n",
    "                'Comment': f'Success via {method}'\n",
    "            }\n",
    "    return {\n",
    "        'UID': uid,\n",
    "        'Risk Tier': risk_tier,\n",
    "        'Final Action': 'None',\n",
    "        'Contact Path': \" → \".join(path),\n",
    "        'Success': 0,\n",
    "        'Comment': 'No contact success'\n",
    "    }\n",
    "\n",
    "# simulation to all clients\n",
    "results = []\n",
    "for _, row in df.iterrows():\n",
    "    result = simulate_contact(row['UID'], row['Action_Tier'])\n",
    "    results.append(result)\n",
    "\n",
    "# dataframe\n",
    "sim_df = pd.DataFrame(results)\n",
    "\n",
    "# results\n",
    "sim_df.to_csv(\"/Users/rg/ACADEMICS/Interview/Connected Data Comapany/MAY/Dataset/reinforcement_learning/contact_strategy_simulation_results.csv\", index=False)\n",
    "\n",
    "# sample output\n",
    "print(\"Simulation complete! Here are the first few rows:\\n\")\n",
    "print(sim_df.head(10))\n"
   ]
  },
  {
   "cell_type": "code",
   "execution_count": 6,
   "id": "463bf1c3",
   "metadata": {},
   "outputs": [
    {
     "name": "stdout",
     "output_type": "stream",
     "text": [
      " RL Contact Strategy Summary Table:\n",
      "\n",
      "Final Action           Call  Email    SMS  Success Rate (%)\n",
      "Risk Tier                                                  \n",
      "Tier 1 - Low Risk      15.0   17.0  174.0             98.00\n",
      "Tier 2 - Medium Risk   15.0   11.0   49.0             89.00\n",
      "Tier 3 - High Risk     82.0   37.0   80.0             74.00\n",
      "Total                 112.0   65.0  303.0             85.41\n"
     ]
    }
   ],
   "source": [
    "import pandas as pd\n",
    "\n",
    "\n",
    "sim_df = pd.read_csv(\"/Users/rg/ACADEMICS/Interview/Connected Data Comapany/MAY/Dataset/reinforcement_learning/contact_strategy_simulation_results.csv\")\n",
    "\n",
    "# count summary \n",
    "summary = pd.crosstab(sim_df['Risk Tier'], sim_df['Final Action'])\n",
    "\n",
    "# success rate per Risk Tier\n",
    "success_rate = sim_df.groupby('Risk Tier')['Success'].mean().round(2) * 100\n",
    "summary['Success Rate (%)'] = success_rate\n",
    "\n",
    "\n",
    "# total row\n",
    "summary.loc['Total'] = summary.sum(numeric_only=True)\n",
    "summary.loc['Total', 'Success Rate (%)'] = (sim_df['Success'].mean() * 100).round(2)\n",
    "\n",
    "# output\n",
    "summary.to_csv(\"contact_strategy_summary_table.csv\")\n",
    "\n",
    "#summary\n",
    "print(\" RL Contact Strategy Summary Table:\\n\")\n",
    "print(summary)\n"
   ]
  },
  {
   "cell_type": "markdown",
   "id": "4a2a7e3c",
   "metadata": {},
   "source": [
    "1. Tier 1 (Low Risk) Clients\n",
    "\n",
    "- Most responded to SMS (174/210 = 83%)\n",
    "- Very few required escalation\n",
    "\n",
    "- - Only 4 clients could not be reached at all  Shows that SMS-first is highly efficient for this group — low-cost, high success."
   ]
  },
  {
   "cell_type": "markdown",
   "id": "3f80b97a",
   "metadata": {},
   "source": [
    "2. Tier 2 (Medium Risk) Clients\n",
    "\n",
    "- More varied results:\n",
    "- Only 58% recovered via SMS/Email.\n",
    "- Call needed for 18% of clients.\n",
    "\n",
    "- - 9 clients could not be reached  \n",
    "- - Mixed-contact strategies work well — but seeing signs of resistance."
   ]
  },
  {
   "cell_type": "markdown",
   "id": "2947f9e7",
   "metadata": {},
   "source": [
    "\n",
    "\n",
    "\n",
    "\n",
    "3. Tier 3 (High Risk) Clients\n",
    "\n",
    "- SMS success drops a lot — only 30% respond to SMS.\n",
    "- Call is the top success method: 82 clients saved via call\n",
    "\n",
    "- - Still, 69 clients could not be reached \n",
    "- - Proves that high-risk clients often require escalation (manual contact), and even then success is not guaranteed."
   ]
  }
 ],
 "metadata": {
  "kernelspec": {
   "display_name": "PAPER",
   "language": "python",
   "name": "python3"
  },
  "language_info": {
   "codemirror_mode": {
    "name": "ipython",
    "version": 3
   },
   "file_extension": ".py",
   "mimetype": "text/x-python",
   "name": "python",
   "nbconvert_exporter": "python",
   "pygments_lexer": "ipython3",
   "version": "3.8.15"
  }
 },
 "nbformat": 4,
 "nbformat_minor": 5
}
